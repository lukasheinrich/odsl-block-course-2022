{
 "cells": [
  {
   "cell_type": "code",
   "execution_count": 1,
   "metadata": {},
   "outputs": [],
   "source": [
    "import numpy as np\n",
    "import scipy.stats as sps\n",
    "import matplotlib.pyplot as plt\n",
    "\n",
    "\n",
    "class Model(object):\n",
    "    def __init__(self, pars):\n",
    "        self.pars = pars\n",
    "        self.mean = self.pars[0]\n",
    "\n",
    "    def _build_model(self, pars):\n",
    "        return sps.norm(loc = self.mean, scale = 1.0)\n",
    "\n",
    "    def samples(self,pars, n = 10):\n",
    "        return self._build_model(pars).rvs(n)\n",
    "\n",
    "    def logpdf(self,pars,x):\n",
    "        return self._build_model(pars).logpdf(x)\n",
    "\n",
    "    def mle(self,x):\n",
    "        return x"
   ]
  },
  {
   "cell_type": "code",
   "execution_count": 2,
   "metadata": {},
   "outputs": [
    {
     "data": {
      "text/plain": [
       "-1.4189385332046727"
      ]
     },
     "execution_count": 2,
     "metadata": {},
     "output_type": "execute_result"
    }
   ],
   "source": [
    "m = Model(np.array([2.]))\n",
    "\n",
    "\n",
    "m.logpdf(1.,1)"
   ]
  },
  {
   "cell_type": "code",
   "execution_count": 3,
   "metadata": {},
   "outputs": [
    {
     "data": {
      "text/plain": [
       "0.31731050786291415"
      ]
     },
     "execution_count": 3,
     "metadata": {},
     "output_type": "execute_result"
    }
   ],
   "source": [
    "1-sps.chi2(1).cdf(1)"
   ]
  },
  {
   "cell_type": "code",
   "execution_count": 4,
   "metadata": {},
   "outputs": [
    {
     "ename": "AttributeError",
     "evalue": "'Model' object has no attribute 'sample'",
     "output_type": "error",
     "traceback": [
      "\u001b[0;31m---------------------------------------------------------------------------\u001b[0m",
      "\u001b[0;31mAttributeError\u001b[0m                            Traceback (most recent call last)",
      "\u001b[0;32m/var/folders/57/fc0v69k57c16wb37ljf51cd00000gn/T/ipykernel_9368/1150142622.py\u001b[0m in \u001b[0;36m<module>\u001b[0;34m\u001b[0m\n\u001b[0;32m----> 1\u001b[0;31m \u001b[0mx\u001b[0m \u001b[0;34m=\u001b[0m \u001b[0mm\u001b[0m\u001b[0;34m.\u001b[0m\u001b[0msample\u001b[0m\u001b[0;34m(\u001b[0m\u001b[0mpars\u001b[0m \u001b[0;34m=\u001b[0m \u001b[0mnp\u001b[0m\u001b[0;34m.\u001b[0m\u001b[0marray\u001b[0m\u001b[0;34m(\u001b[0m\u001b[0;34m[\u001b[0m\u001b[0;36m2.0\u001b[0m\u001b[0;34m]\u001b[0m\u001b[0;34m)\u001b[0m\u001b[0;34m,\u001b[0m \u001b[0mn\u001b[0m \u001b[0;34m=\u001b[0m \u001b[0mint\u001b[0m\u001b[0;34m(\u001b[0m\u001b[0;36m1e3\u001b[0m\u001b[0;34m)\u001b[0m\u001b[0;34m)\u001b[0m\u001b[0;34m\u001b[0m\u001b[0;34m\u001b[0m\u001b[0m\n\u001b[0m\u001b[1;32m      2\u001b[0m \u001b[0mplt\u001b[0m\u001b[0;34m.\u001b[0m\u001b[0mhist\u001b[0m\u001b[0;34m(\u001b[0m\u001b[0mx\u001b[0m\u001b[0;34m,\u001b[0m \u001b[0mbins\u001b[0m \u001b[0;34m=\u001b[0m \u001b[0;36m30\u001b[0m\u001b[0;34m)\u001b[0m\u001b[0;34m;\u001b[0m\u001b[0;34m\u001b[0m\u001b[0;34m\u001b[0m\u001b[0m\n",
      "\u001b[0;31mAttributeError\u001b[0m: 'Model' object has no attribute 'sample'"
     ]
    }
   ],
   "source": [
    "x = m.sample(pars = np.array([2.0]), n = int(1e3))\n",
    "plt.hist(x, bins = 30);"
   ]
  },
  {
   "cell_type": "code",
   "execution_count": 210,
   "metadata": {},
   "outputs": [
    {
     "data": {
      "text/plain": [
       "[<matplotlib.lines.Line2D at 0x136514c50>]"
      ]
     },
     "execution_count": 210,
     "metadata": {},
     "output_type": "execute_result"
    },
    {
     "data": {
      "image/png": "[encoded data removed]",
      "text/plain": [
       "<Figure size 432x288 with 1 Axes>"
      ]
     },
     "metadata": {
      "needs_background": "light"
     },
     "output_type": "display_data"
    }
   ],
   "source": [
    "import jax\n",
    "def teststat(x,mu):\n",
    "    bestfit = jax.numpy.where(x > 0, x, 0)\n",
    "    return -2*(jax.scipy.stats.norm.logpdf(x,mu) - jax.scipy.stats.norm.logpdf(x,bestfit))\n",
    "\n",
    "def get_test_stat(mu):\n",
    "    return lambda x: jax.vmap(teststat, in_axes=(0,None))(x,mu)\n",
    "\n",
    "gaussian_lr = jax.vmap(teststat, in_axes=(0,None))\n",
    "\n",
    "\n",
    "xi = np.linspace(-10,10)\n",
    "li = get_test_stat(2.0)(xi)\n",
    "plt.plot(xi,li)\n",
    "li = get_test_stat(0.0)(xi)\n",
    "plt.plot(xi,li)\n",
    "li = get_test_stat(3.0)(xi)\n",
    "plt.plot(xi,li)\n",
    "\n"
   ]
  },
  {
   "cell_type": "code",
   "execution_count": 275,
   "metadata": {},
   "outputs": [
    {
     "data": {
      "text/plain": [
       "    fjac: array([[1.]])\n",
       "     fun: array([1.23233333e-09])\n",
       " message: 'The solution converged.'\n",
       "    nfev: 25\n",
       "     qtf: array([1.23233333e-09])\n",
       "       r: array([-0.02453933])\n",
       "  status: 1\n",
       " success: True\n",
       "       x: array([3.8414587])"
      ]
     },
     "execution_count": 275,
     "metadata": {},
     "output_type": "execute_result"
    },
    {
     "data": {
      "image/png": "[encoded data removed]",
      "text/plain": [
       "<Figure size 432x288 with 1 Axes>"
      ]
     },
     "metadata": {
      "needs_background": "light"
     },
     "output_type": "display_data"
    }
   ],
   "source": [
    "import scipy.optimize\n",
    "\n",
    "def getcutf(mu):\n",
    "    def cut(cutval):\n",
    "        a = scipy.optimize.root(lambda x: get_test_stat(mu)(x) - cutval, mu + 0.1).x\n",
    "        b = scipy.optimize.root(lambda x: get_test_stat(mu)(x) - cutval, mu - 0.1).x\n",
    "        li = get_test_stat(mu)(xi)\n",
    "\n",
    "        right_tail = 1-scipy.stats.norm(mu).cdf(a)\n",
    "        left_tail = scipy.stats.norm(mu).cdf(b)\n",
    "        pval = left_tail+right_tail\n",
    "        return np.array([a,b,pval])\n",
    "    return cut\n",
    "\n",
    "a,b,p = getcutf(2.0)(10)\n",
    "plt.plot(xi,li)\n",
    "plt.hlines(10,-10,10)\n",
    "plt.vlines([a,b],0,100)\n",
    "plt.xlim(-7,7)\n",
    "\n",
    "\n",
    "scipy.optimize.root(lambda x: getcutf(2.0)(x)[-1]-0.05,10)"
   ]
  },
  {
   "cell_type": "code",
   "execution_count": 273,
   "metadata": {},
   "outputs": [],
   "source": [
    "def feldman_cousins(mu,level = 0.1):\n",
    "    r = scipy.optimize.root(lambda x: getcutf(mu)(x)[-1]-level,20)\n",
    "    return getcutf(mu)(r.x)\n",
    "fcr = np.array([feldman_cousins(mu) for mu in np.linspace(0.01,6,21)])"
   ]
  },
  {
   "cell_type": "code",
   "execution_count": 274,
   "metadata": {},
   "outputs": [
    {
     "data": {
      "image/png": "[encoded data removed]",
      "text/plain": [
       "<Figure size 360x360 with 1 Axes>"
      ]
     },
     "metadata": {
      "needs_background": "light"
     },
     "output_type": "display_data"
    }
   ],
   "source": [
    "mus = np.linspace(0.01,6,21)\n",
    "plt.plot(fcr[:,0],mus)\n",
    "plt.plot(fcr[:,1],mus)\n",
    "plt.ylim(0,6)\n",
    "plt.xlim(-2,4)\n",
    "plt.gcf().set_size_inches(5,5)\n",
    "plt.savefig('feldman_cousins.png')"
   ]
  },
  {
   "cell_type": "code",
   "execution_count": 303,
   "metadata": {},
   "outputs": [
    {
     "name": "stdout",
     "output_type": "stream",
     "text": [
      "0.05 0.95\n",
      "[ 0.    0.02  0.04 ... 19.96 19.98 20.  ] hypos\n",
      "[[ 1.  6.]\n",
      " [ 1.  6.]\n",
      " [ 1.  6.]\n",
      " ...\n",
      " [15. 31.]\n",
      " [15. 31.]\n",
      " [15. 31.]]\n",
      "[0.0000,4.7400]\n"
     ]
    },
    {
     "data": {
      "image/png": "[encoded data removed]",
      "text/plain": [
       "<Figure size 216x216 with 1 Axes>"
      ]
     },
     "metadata": {
      "needs_background": "light"
     },
     "output_type": "display_data"
    }
   ],
   "source": [
    "def acceptance_region(td,lo_p,hi_p):\n",
    "    return [td.ppf(lo_p) if lo_p > 0 else -100,td.ppf(hi_p) if hi_p < 1 else 100]\n",
    "\n",
    "def plot_gaussian(data = 5, fname = 'plot.png', plot_mle=False, plot_data=False, plot_interval = False, interval = 'upper', alpha = 0.1):\n",
    "    hypos  = np.linspace(0,20,1001)\n",
    "    dspace = np.linspace(-5,5,101)\n",
    "    h0_dists = [sps.norm(mu,1) for mu in hypos] # for flip-flopping plots\n",
    "    h0_dists = [sps.poisson(mu+3) for mu in hypos]  #for F-C-step plots\n",
    "\n",
    "    if interval=='upper':\n",
    "        lo_p,hi_p = alpha,1\n",
    "    # elif interval=='central':\n",
    "    #   lo_p,hi_p = 0.025,0.975\n",
    "    elif interval=='central':\n",
    "        lo_p,hi_p = alpha/2,1-alpha/2\n",
    "\n",
    "    print(lo_p,hi_p)\n",
    "    print(hypos,'hypos')\n",
    "\n",
    "    def acceptance_region(td,lo_p,hi_p):\n",
    "        return [td.ppf(lo_p) if lo_p > 0 else -100,td.ppf(hi_p) if hi_p < 1 else 100]\n",
    "\n",
    "    band = np.array([acceptance_region(td,lo_p,hi_p) for td in h0_dists])\n",
    "    print(band)\n",
    "\n",
    "    upper,lower = band[:,0],band[:,1]\n",
    "    plt.plot(lower,hypos, c = 'maroon')\n",
    "    plt.plot(upper,hypos, c = 'maroon')\n",
    "    # plt.plot([lower,upper],np.stack([hypos,hypos]), c = 'grey', linestyle='dashed');\n",
    "\n",
    "    int_upper = np.interp(data,upper,hypos)\n",
    "    int_lower = np.interp(data,lower,hypos)\n",
    "    print(f'[{int_lower:.4f},{int_upper:.4f}]')\n",
    "\n",
    "    mle = data\n",
    "    if plot_mle:\n",
    "        plt.hlines(mle,-5,data, colors='k')\n",
    "        plt.scatter(data,mle,c = 'k', zorder=100, linewidths=1)\n",
    "    if plot_data:\n",
    "        plt.vlines(data,0,10, colors = 'k')\n",
    "    if plot_interval:\n",
    "        plt.hlines(int_lower,-5,data, colors='k', linewidths = 2.5)\n",
    "        plt.hlines(int_upper,-5,data, colors='k', linewidths = 2.5)\n",
    "        plt.fill_between([-5,data],np.ones(2)*int_lower,np.ones(2)*int_upper, facecolor = 'lightgray')\n",
    "    plt.xlim(0,15)\n",
    "    plt.ylim(0,15)\n",
    "    plt.xlabel(r'$t$')\n",
    "    plt.ylabel(r'$\\theta$')\n",
    "    plt.gcf().set_size_inches(3,3)\n",
    "    plt.savefig(fname, dpi=600)\n",
    "\n",
    "plot_gaussian(data = 3, fname = f'gaussian_twosided_2.png', plot_data = True, plot_mle = True, plot_interval=True, interval='central')"
   ]
  },
  {
   "cell_type": "code",
   "execution_count": 302,
   "metadata": {},
   "outputs": [
    {
     "data": {
      "text/plain": [
       "[2.0, 10.0]"
      ]
     },
     "execution_count": 302,
     "metadata": {},
     "output_type": "execute_result"
    }
   ],
   "source": [
    "acceptance_region(sps.poisson(mu = 5.5),0.05,0.95);\n"
   ]
  },
  {
   "cell_type": "code",
   "execution_count": 169,
   "metadata": {},
   "outputs": [],
   "source": [
    "hypos   = np.linspace(0,5,11)\n",
    "xi      = np.linspace(-10,10)\n",
    "bestfit = 0.0\n",
    "\n",
    "dh = np.array([np.random.normal(h,size = (100000,)) for h in hypos])\n",
    "\n",
    "def tstat(bestfit):\n",
    "    pass\n",
    "\n",
    "# lrt_vals = np.array([sps.norm.logpdf(d,h)-sps.norm.logpdf(d,bestfit) for d,h in zip(dh,hypos)])\n",
    "# plt.contourf(lrt_vals)"
   ]
  },
  {
   "cell_type": "code",
   "execution_count": 166,
   "metadata": {},
   "outputs": [
    {
     "data": {
      "text/plain": [
       "0.8938226912717524"
      ]
     },
     "execution_count": 166,
     "metadata": {},
     "output_type": "execute_result"
    }
   ],
   "source": [
    "sum([sps.poisson(5+3).pmf(x) for x in np.arange(4,13)])"
   ]
  },
  {
   "cell_type": "code",
   "execution_count": 167,
   "metadata": {},
   "outputs": [
    {
     "data": {
      "text/plain": [
       "(4.0, 13.0)"
      ]
     },
     "execution_count": 167,
     "metadata": {},
     "output_type": "execute_result"
    }
   ],
   "source": [
    "sps.poisson(5+3).ppf(0.05),sps.poisson(5+3).ppf(0.95)"
   ]
  },
  {
   "cell_type": "code",
   "execution_count": 159,
   "metadata": {},
   "outputs": [
    {
     "name": "stdout",
     "output_type": "stream",
     "text": [
      "[False, False, False, True, True, True, True, True, True, True, True, True, True, True, True, True, True, True, True, True, True, True, True, True, True]\n"
     ]
    },
    {
     "data": {
      "text/plain": [
       "3"
      ]
     },
     "execution_count": 159,
     "metadata": {},
     "output_type": "execute_result"
    }
   ],
   "source": [
    "a = (np.array([sps.poisson(5+3).cdf(x) for x in np.arange(25)]) > 0.025).tolist()\n",
    "print(a)\n",
    "a.index(True)"
   ]
  },
  {
   "cell_type": "code",
   "execution_count": 157,
   "metadata": {},
   "outputs": [
    {
     "data": {
      "text/plain": [
       "[0.0003354626279025119,\n",
       " 0.003019163651122605,\n",
       " 0.013753967744002971,\n",
       " 0.04238011199168396,\n",
       " 0.09963240048704596,\n",
       " 0.19123606207962532,\n",
       " 0.31337427753639774,\n",
       " 0.4529608094869946,\n",
       " 0.5925473414375915,\n",
       " 0.716624258727011,\n",
       " 0.8158857925585467,\n",
       " 0.8880759989814815,\n",
       " 0.9362028032634382,\n",
       " 0.9658192982061807,\n",
       " 0.9827430096020336,\n",
       " 0.9917689890131551,\n",
       " 0.9962819787187159,\n",
       " 0.9984057385801562,\n",
       " 0.9993496318519075,\n",
       " 0.9997470605979081,\n",
       " 0.9999060320963082,\n",
       " 0.9999665926671274,\n",
       " 0.9999886146928798,\n",
       " 0.9999962745279242,\n",
       " 0.9999988278062723]"
      ]
     },
     "execution_count": 157,
     "metadata": {},
     "output_type": "execute_result"
    }
   ],
   "source": [
    "a = (np.array([sps.poisson(5+3).cdf(x) for x in np.arange(25)])).tolist()\n",
    "# a.index(True)\n",
    "a"
   ]
  },
  {
   "cell_type": "code",
   "execution_count": 128,
   "metadata": {},
   "outputs": [
    {
     "ename": "SyntaxError",
     "evalue": "invalid syntax (2923329075.py, line 1)",
     "output_type": "error",
     "traceback": [
      "\u001b[0;36m  File \u001b[0;32m\"/var/folders/57/fc0v69k57c16wb37ljf51cd00000gn/T/ipykernel_9368/2923329075.py\"\u001b[0;36m, line \u001b[0;32m1\u001b[0m\n\u001b[0;31m    sps.poisson(5+3).cdf3)\u001b[0m\n\u001b[0m                         ^\u001b[0m\n\u001b[0;31mSyntaxError\u001b[0m\u001b[0;31m:\u001b[0m invalid syntax\n"
     ]
    }
   ],
   "source": [
    "sps.poisson(5+3).cdf3)"
   ]
  },
  {
   "cell_type": "code",
   "execution_count": 58,
   "metadata": {},
   "outputs": [
    {
     "data": {
      "text/plain": [
       "[<matplotlib.lines.Line2D at 0x135c5acc0>]"
      ]
     },
     "execution_count": 58,
     "metadata": {},
     "output_type": "execute_result"
    },
    {
     "data": {
      "image/png": "[encoded data removed]",
      "text/plain": [
       "<Figure size 432x288 with 1 Axes>"
      ]
     },
     "metadata": {
      "needs_background": "light"
     },
     "output_type": "display_data"
    }
   ],
   "source": [
    "import jax.scipy as jsp\n",
    "import jax\n",
    "th = np.linspace(3,7)\n",
    "lh = -2*(jax.vmap(jsp.stats.norm.logpdf, in_axes=(None,0))(5,th) - jsp.stats.norm.logpdf(5,5))\n",
    "plt.plot(th,lh)"
   ]
  },
  {
   "cell_type": "code",
   "execution_count": 60,
   "metadata": {},
   "outputs": [
    {
     "data": {
      "text/plain": [
       "1.001249492168427"
      ]
     },
     "execution_count": 60,
     "metadata": {},
     "output_type": "execute_result"
    }
   ],
   "source": [
    "np.interp(6,th,lh)"
   ]
  },
  {
   "cell_type": "code",
   "execution_count": null,
   "metadata": {},
   "outputs": [],
   "source": []
  }
 ],
 "metadata": {
  "interpreter": {
   "hash": "15e94271d285dad99d67263322b6dc92c85fd384920dce0170798601ada6548f"
  },
  "kernelspec": {
   "display_name": "Python 3.7.2 64-bit ('_venv': venv)",
   "language": "python",
   "name": "python3"
  },
  "language_info": {
   "codemirror_mode": {
    "name": "ipython",
    "version": 3
   },
   "file_extension": ".py",
   "mimetype": "text/x-python",
   "name": "python",
   "nbconvert_exporter": "python",
   "pygments_lexer": "ipython3",
   "version": "3.7.2"
  },
  "orig_nbformat": 4
 },
 "nbformat": 4,
 "nbformat_minor": 2
}
